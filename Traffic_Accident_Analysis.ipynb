
{
 "cells": [
  {
   "cell_type": "markdown",
   "metadata": {},
   "source": [
    "# Traffic Accident Analysis & Prediction"
   ]
  },
  {
   "cell_type": "markdown",
   "metadata": {},
   "source": [
    "## 📌 Project Description\n",
    "This project aims to analyze traffic accident data to find accident-prone areas, and predict accident severity based on various factors like location, time, weather, etc."
   ]
  },
  {
   "cell_type": "code",
   "execution_count": null,
   "metadata": {},
   "outputs": [],
   "source": [
    "import pandas as pd\n",
    "import matplotlib.pyplot as plt\n",
    "import seaborn as sns\n",
    "from sklearn.model_selection import train_test_split\n",
    "from sklearn.ensemble import RandomForestClassifier\n",
    "from sklearn.metrics import accuracy_score, classification_report, confusion_matrix\n",
    "\n",
    "# Loading the Dataset\n",
    "data = pd.read_csv('data.csv')\n",
    "\n",
    "# Displaying first 5 rows of the dataset\n",
    "data.head()"
   ]
  },
  {
   "cell_type": "markdown",
   "metadata": {},
   "source": [
    "## 🔍 Data Analysis & Visualization"
   ]
  },
  {
   "cell_type": "code",
   "execution_count": null,
   "metadata": {},
   "outputs": [],
   "source": [
    "# Plotting Accident Count by Location\n",
    "plt.figure(figsize=(10, 6))\n",
    "sns.countplot(x='Location', data=data)\n",
    "plt.title('Accident Count by Location')\n",
    "plt.show()\n",
    "\n",
    "# Plotting Accident Count by Time of Day\n",
    "plt.figure(figsize=(10, 6))\n",
    "sns.countplot(x='Time', data=data)\n",
    "plt.title('Accident Count by Time of Day')\n",
    "plt.show()\n",
    "\n",
    "# Plotting Accident Severity Distribution\n",
    "plt.figure(figsize=(10, 6))\n",
    "sns.countplot(x='Severity', data=data)\n",
    "plt.title('Accident Severity Distribution')\n",
    "plt.show()"
   ]
  },
  {
   "cell_type": "markdown",
   "metadata": {},
   "source": [
    "## 🤖 Machine Learning Model Building"
   ]
  },
  {
   "cell_type": "code",
   "execution_count": null,
   "metadata": {},
   "outputs": [],
   "source": [
    "# Converting categorical data to numerical using One-Hot Encoding\n",
    "data_ml = pd.get_dummies(data, columns=['Location', 'Time', 'Weather'], drop_first=True)\n",
    "\n",
    "# Defining Features (X) and Target (y)\n",
    "X = data_ml.drop(['Date', 'Severity'], axis=1)\n",
    "y = data_ml['Severity']\n",
    "\n",
    "# Splitting the data\n",
    "X_train, X_test, y_train, y_test = train_test_split(X, y, test_size=0.3, random_state=42)\n",
    "\n",
    "# Model Building\n",
    "model = RandomForestClassifier(n_estimators=100, random_state=42)\n",
    "model.fit(X_train, y_train)\n",
    "\n",
    "# Making Predictions\n",
    "y_pred = model.predict(X_test)\n",
    "\n",
    "# Model Evaluation\n",
    "accuracy = accuracy_score(y_test, y_pred)\n",
    "print(f'Accuracy: {accuracy * 100:.2f}%')\n",
    "print(classification_report(y_test, y_pred))\n",
    "print('Confusion Matrix:')\n",
    "print(confusion_matrix(y_test, y_pred))"
   ]
  }
 ],
 "metadata": {
  "kernelspec": {
   "display_name": "Python 3",
   "language": "python",
   "name": "python3"
  },
  "language_info": {
   "codemirror_mode": {
    "name": "ipython",
    "version": 3
   },
   "file_extension": ".py",
   "mimetype": "text/x-python",
   "name": "python",
    "nbconvert_exporter": "python",
    "pygments_lexer": "ipython3",
    "version": "3.8"
  }
 },
 "nbformat": 4,
 "nbformat_minor": 4
}
